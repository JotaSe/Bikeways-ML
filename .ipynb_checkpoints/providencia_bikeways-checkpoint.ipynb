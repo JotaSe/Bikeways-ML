{
 "cells": [
  {
   "cell_type": "markdown",
   "metadata": {},
   "source": [
    "# Import dependencies"
   ]
  },
  {
   "cell_type": "code",
   "execution_count": 1,
   "metadata": {
    "collapsed": false
   },
   "outputs": [],
   "source": [
    "import numpy as np # used for algebra operations\n",
    "import pandas as pd # Data procesing\n",
    "import seaborn as sns # statistical data visualization\n",
    "from matplotlib import pyplot as plt\n",
    "%matplotlib inline"
   ]
  },
  {
   "cell_type": "markdown",
   "metadata": {},
   "source": [
    "# Import dataset"
   ]
  },
  {
   "cell_type": "code",
   "execution_count": 2,
   "metadata": {
    "collapsed": false
   },
   "outputs": [
    {
     "data": {
      "text/html": [
       "<div>\n",
       "<table border=\"1\" class=\"dataframe\">\n",
       "  <thead>\n",
       "    <tr style=\"text-align: right;\">\n",
       "      <th></th>\n",
       "      <th>Fecha</th>\n",
       "      <th>ANDRES BELLO</th>\n",
       "      <th>ANTONIO VARAS</th>\n",
       "      <th>BUSTAMANTE</th>\n",
       "      <th>MARÍN</th>\n",
       "      <th>MIGUEL CLARO</th>\n",
       "      <th>POCURO</th>\n",
       "      <th>RICARDO LYON</th>\n",
       "    </tr>\n",
       "  </thead>\n",
       "  <tbody>\n",
       "    <tr>\n",
       "      <th>0</th>\n",
       "      <td>29/03/2015 00:00</td>\n",
       "      <td>8</td>\n",
       "      <td>20.0</td>\n",
       "      <td>38.0</td>\n",
       "      <td>17</td>\n",
       "      <td>NaN</td>\n",
       "      <td>31</td>\n",
       "      <td>18</td>\n",
       "    </tr>\n",
       "    <tr>\n",
       "      <th>1</th>\n",
       "      <td>29/03/2015 01:00</td>\n",
       "      <td>6</td>\n",
       "      <td>21.0</td>\n",
       "      <td>14.0</td>\n",
       "      <td>14</td>\n",
       "      <td>NaN</td>\n",
       "      <td>20</td>\n",
       "      <td>13</td>\n",
       "    </tr>\n",
       "    <tr>\n",
       "      <th>2</th>\n",
       "      <td>29/03/2015 02:00</td>\n",
       "      <td>1</td>\n",
       "      <td>13.0</td>\n",
       "      <td>6.0</td>\n",
       "      <td>11</td>\n",
       "      <td>NaN</td>\n",
       "      <td>24</td>\n",
       "      <td>10</td>\n",
       "    </tr>\n",
       "    <tr>\n",
       "      <th>3</th>\n",
       "      <td>29/03/2015 03:00</td>\n",
       "      <td>3</td>\n",
       "      <td>10.0</td>\n",
       "      <td>6.0</td>\n",
       "      <td>11</td>\n",
       "      <td>NaN</td>\n",
       "      <td>10</td>\n",
       "      <td>9</td>\n",
       "    </tr>\n",
       "    <tr>\n",
       "      <th>4</th>\n",
       "      <td>29/03/2015 04:00</td>\n",
       "      <td>1</td>\n",
       "      <td>6.0</td>\n",
       "      <td>4.0</td>\n",
       "      <td>4</td>\n",
       "      <td>NaN</td>\n",
       "      <td>11</td>\n",
       "      <td>3</td>\n",
       "    </tr>\n",
       "  </tbody>\n",
       "</table>\n",
       "</div>"
      ],
      "text/plain": [
       "              Fecha  ANDRES BELLO  ANTONIO VARAS  BUSTAMANTE  MARÍN  \\\n",
       "0  29/03/2015 00:00             8           20.0        38.0     17   \n",
       "1  29/03/2015 01:00             6           21.0        14.0     14   \n",
       "2  29/03/2015 02:00             1           13.0         6.0     11   \n",
       "3  29/03/2015 03:00             3           10.0         6.0     11   \n",
       "4  29/03/2015 04:00             1            6.0         4.0      4   \n",
       "\n",
       "   MIGUEL CLARO  POCURO  RICARDO LYON  \n",
       "0           NaN      31            18  \n",
       "1           NaN      20            13  \n",
       "2           NaN      24            10  \n",
       "3           NaN      10             9  \n",
       "4           NaN      11             3  "
      ]
     },
     "execution_count": 2,
     "metadata": {},
     "output_type": "execute_result"
    }
   ],
   "source": [
    "df = pd.read_csv('./data/data_2015.csv')\n",
    "df.head()"
   ]
  },
  {
   "cell_type": "code",
   "execution_count": 3,
   "metadata": {
    "collapsed": false
   },
   "outputs": [
    {
     "name": "stderr",
     "output_type": "stream",
     "text": [
      "/home/jotase/anaconda3/lib/python3.5/site-packages/numpy/lib/function_base.py:3834: RuntimeWarning: Invalid value encountered in percentile\n",
      "  RuntimeWarning)\n"
     ]
    },
    {
     "data": {
      "text/html": [
       "<div>\n",
       "<table border=\"1\" class=\"dataframe\">\n",
       "  <thead>\n",
       "    <tr style=\"text-align: right;\">\n",
       "      <th></th>\n",
       "      <th>ANDRES BELLO</th>\n",
       "      <th>ANTONIO VARAS</th>\n",
       "      <th>BUSTAMANTE</th>\n",
       "      <th>MARÍN</th>\n",
       "      <th>MIGUEL CLARO</th>\n",
       "      <th>POCURO</th>\n",
       "      <th>RICARDO LYON</th>\n",
       "    </tr>\n",
       "  </thead>\n",
       "  <tbody>\n",
       "    <tr>\n",
       "      <th>count</th>\n",
       "      <td>6672.000000</td>\n",
       "      <td>6654.000000</td>\n",
       "      <td>6643.000000</td>\n",
       "      <td>6672.000000</td>\n",
       "      <td>3750.000000</td>\n",
       "      <td>6672.000000</td>\n",
       "      <td>6672.000000</td>\n",
       "    </tr>\n",
       "    <tr>\n",
       "      <th>mean</th>\n",
       "      <td>127.395084</td>\n",
       "      <td>70.734896</td>\n",
       "      <td>73.154900</td>\n",
       "      <td>69.884442</td>\n",
       "      <td>51.014400</td>\n",
       "      <td>126.440947</td>\n",
       "      <td>105.830036</td>\n",
       "    </tr>\n",
       "    <tr>\n",
       "      <th>std</th>\n",
       "      <td>162.141802</td>\n",
       "      <td>73.060974</td>\n",
       "      <td>75.088782</td>\n",
       "      <td>87.033774</td>\n",
       "      <td>52.454487</td>\n",
       "      <td>137.420884</td>\n",
       "      <td>108.762720</td>\n",
       "    </tr>\n",
       "    <tr>\n",
       "      <th>min</th>\n",
       "      <td>0.000000</td>\n",
       "      <td>0.000000</td>\n",
       "      <td>0.000000</td>\n",
       "      <td>0.000000</td>\n",
       "      <td>0.000000</td>\n",
       "      <td>0.000000</td>\n",
       "      <td>0.000000</td>\n",
       "    </tr>\n",
       "    <tr>\n",
       "      <th>25%</th>\n",
       "      <td>7.000000</td>\n",
       "      <td>NaN</td>\n",
       "      <td>NaN</td>\n",
       "      <td>9.000000</td>\n",
       "      <td>NaN</td>\n",
       "      <td>18.000000</td>\n",
       "      <td>11.000000</td>\n",
       "    </tr>\n",
       "    <tr>\n",
       "      <th>50%</th>\n",
       "      <td>84.000000</td>\n",
       "      <td>NaN</td>\n",
       "      <td>NaN</td>\n",
       "      <td>47.000000</td>\n",
       "      <td>NaN</td>\n",
       "      <td>100.000000</td>\n",
       "      <td>89.000000</td>\n",
       "    </tr>\n",
       "    <tr>\n",
       "      <th>75%</th>\n",
       "      <td>169.000000</td>\n",
       "      <td>NaN</td>\n",
       "      <td>NaN</td>\n",
       "      <td>85.000000</td>\n",
       "      <td>NaN</td>\n",
       "      <td>170.000000</td>\n",
       "      <td>153.000000</td>\n",
       "    </tr>\n",
       "    <tr>\n",
       "      <th>max</th>\n",
       "      <td>948.000000</td>\n",
       "      <td>381.000000</td>\n",
       "      <td>538.000000</td>\n",
       "      <td>506.000000</td>\n",
       "      <td>290.000000</td>\n",
       "      <td>754.000000</td>\n",
       "      <td>556.000000</td>\n",
       "    </tr>\n",
       "  </tbody>\n",
       "</table>\n",
       "</div>"
      ],
      "text/plain": [
       "       ANDRES BELLO  ANTONIO VARAS   BUSTAMANTE        MARÍN  MIGUEL CLARO  \\\n",
       "count   6672.000000    6654.000000  6643.000000  6672.000000   3750.000000   \n",
       "mean     127.395084      70.734896    73.154900    69.884442     51.014400   \n",
       "std      162.141802      73.060974    75.088782    87.033774     52.454487   \n",
       "min        0.000000       0.000000     0.000000     0.000000      0.000000   \n",
       "25%        7.000000            NaN          NaN     9.000000           NaN   \n",
       "50%       84.000000            NaN          NaN    47.000000           NaN   \n",
       "75%      169.000000            NaN          NaN    85.000000           NaN   \n",
       "max      948.000000     381.000000   538.000000   506.000000    290.000000   \n",
       "\n",
       "            POCURO  RICARDO LYON  \n",
       "count  6672.000000   6672.000000  \n",
       "mean    126.440947    105.830036  \n",
       "std     137.420884    108.762720  \n",
       "min       0.000000      0.000000  \n",
       "25%      18.000000     11.000000  \n",
       "50%     100.000000     89.000000  \n",
       "75%     170.000000    153.000000  \n",
       "max     754.000000    556.000000  "
      ]
     },
     "execution_count": 3,
     "metadata": {},
     "output_type": "execute_result"
    }
   ],
   "source": [
    "# Describe our dataset\n",
    "df.describe()"
   ]
  },
  {
   "cell_type": "code",
   "execution_count": 4,
   "metadata": {
    "collapsed": false
   },
   "outputs": [
    {
     "data": {
      "text/html": [
       "<div>\n",
       "<table border=\"1\" class=\"dataframe\">\n",
       "  <thead>\n",
       "    <tr style=\"text-align: right;\">\n",
       "      <th></th>\n",
       "      <th>Fecha</th>\n",
       "      <th>ANDRES BELLO</th>\n",
       "      <th>ANTONIO VARAS</th>\n",
       "      <th>BUSTAMANTE</th>\n",
       "      <th>MARIN</th>\n",
       "      <th>MIGUEL CLARO</th>\n",
       "      <th>POCURO</th>\n",
       "      <th>RICARDO LYON</th>\n",
       "    </tr>\n",
       "  </thead>\n",
       "  <tbody>\n",
       "    <tr>\n",
       "      <th>0</th>\n",
       "      <td>29/03/2015 00:00</td>\n",
       "      <td>8</td>\n",
       "      <td>20.0</td>\n",
       "      <td>38.0</td>\n",
       "      <td>17</td>\n",
       "      <td>NaN</td>\n",
       "      <td>31</td>\n",
       "      <td>18</td>\n",
       "    </tr>\n",
       "    <tr>\n",
       "      <th>1</th>\n",
       "      <td>29/03/2015 01:00</td>\n",
       "      <td>6</td>\n",
       "      <td>21.0</td>\n",
       "      <td>14.0</td>\n",
       "      <td>14</td>\n",
       "      <td>NaN</td>\n",
       "      <td>20</td>\n",
       "      <td>13</td>\n",
       "    </tr>\n",
       "    <tr>\n",
       "      <th>2</th>\n",
       "      <td>29/03/2015 02:00</td>\n",
       "      <td>1</td>\n",
       "      <td>13.0</td>\n",
       "      <td>6.0</td>\n",
       "      <td>11</td>\n",
       "      <td>NaN</td>\n",
       "      <td>24</td>\n",
       "      <td>10</td>\n",
       "    </tr>\n",
       "    <tr>\n",
       "      <th>3</th>\n",
       "      <td>29/03/2015 03:00</td>\n",
       "      <td>3</td>\n",
       "      <td>10.0</td>\n",
       "      <td>6.0</td>\n",
       "      <td>11</td>\n",
       "      <td>NaN</td>\n",
       "      <td>10</td>\n",
       "      <td>9</td>\n",
       "    </tr>\n",
       "    <tr>\n",
       "      <th>4</th>\n",
       "      <td>29/03/2015 04:00</td>\n",
       "      <td>1</td>\n",
       "      <td>6.0</td>\n",
       "      <td>4.0</td>\n",
       "      <td>4</td>\n",
       "      <td>NaN</td>\n",
       "      <td>11</td>\n",
       "      <td>3</td>\n",
       "    </tr>\n",
       "  </tbody>\n",
       "</table>\n",
       "</div>"
      ],
      "text/plain": [
       "              Fecha  ANDRES BELLO  ANTONIO VARAS  BUSTAMANTE  MARIN  \\\n",
       "0  29/03/2015 00:00             8           20.0        38.0     17   \n",
       "1  29/03/2015 01:00             6           21.0        14.0     14   \n",
       "2  29/03/2015 02:00             1           13.0         6.0     11   \n",
       "3  29/03/2015 03:00             3           10.0         6.0     11   \n",
       "4  29/03/2015 04:00             1            6.0         4.0      4   \n",
       "\n",
       "   MIGUEL CLARO  POCURO  RICARDO LYON  \n",
       "0           NaN      31            18  \n",
       "1           NaN      20            13  \n",
       "2           NaN      24            10  \n",
       "3           NaN      10             9  \n",
       "4           NaN      11             3  "
      ]
     },
     "execution_count": 4,
     "metadata": {},
     "output_type": "execute_result"
    }
   ],
   "source": [
    "# normalize columns\n",
    "df = df.rename(index=str, columns={\"MARÍN\": \"MARIN\"})\n",
    "df.head()"
   ]
  },
  {
   "cell_type": "code",
   "execution_count": 5,
   "metadata": {
    "collapsed": false
   },
   "outputs": [
    {
     "data": {
      "text/html": [
       "<div>\n",
       "<table border=\"1\" class=\"dataframe\">\n",
       "  <thead>\n",
       "    <tr style=\"text-align: right;\">\n",
       "      <th></th>\n",
       "      <th>ANDRES BELLO</th>\n",
       "      <th>ANTONIO VARAS</th>\n",
       "      <th>BUSTAMANTE</th>\n",
       "      <th>MARIN</th>\n",
       "      <th>MIGUEL CLARO</th>\n",
       "      <th>POCURO</th>\n",
       "      <th>RICARDO LYON</th>\n",
       "    </tr>\n",
       "  </thead>\n",
       "  <tbody>\n",
       "    <tr>\n",
       "      <th>count</th>\n",
       "      <td>6672.000000</td>\n",
       "      <td>6672.000000</td>\n",
       "      <td>6672.000000</td>\n",
       "      <td>6672.000000</td>\n",
       "      <td>6672.000000</td>\n",
       "      <td>6672.000000</td>\n",
       "      <td>6672.000000</td>\n",
       "    </tr>\n",
       "    <tr>\n",
       "      <th>mean</th>\n",
       "      <td>127.395084</td>\n",
       "      <td>72.836930</td>\n",
       "      <td>72.836930</td>\n",
       "      <td>69.884442</td>\n",
       "      <td>72.836930</td>\n",
       "      <td>126.440947</td>\n",
       "      <td>105.830036</td>\n",
       "    </tr>\n",
       "    <tr>\n",
       "      <th>std</th>\n",
       "      <td>162.141802</td>\n",
       "      <td>75.079809</td>\n",
       "      <td>75.079809</td>\n",
       "      <td>87.033774</td>\n",
       "      <td>75.079809</td>\n",
       "      <td>137.420884</td>\n",
       "      <td>108.762720</td>\n",
       "    </tr>\n",
       "    <tr>\n",
       "      <th>min</th>\n",
       "      <td>0.000000</td>\n",
       "      <td>0.000000</td>\n",
       "      <td>0.000000</td>\n",
       "      <td>0.000000</td>\n",
       "      <td>0.000000</td>\n",
       "      <td>0.000000</td>\n",
       "      <td>0.000000</td>\n",
       "    </tr>\n",
       "    <tr>\n",
       "      <th>25%</th>\n",
       "      <td>7.000000</td>\n",
       "      <td>11.000000</td>\n",
       "      <td>11.000000</td>\n",
       "      <td>9.000000</td>\n",
       "      <td>11.000000</td>\n",
       "      <td>18.000000</td>\n",
       "      <td>11.000000</td>\n",
       "    </tr>\n",
       "    <tr>\n",
       "      <th>50%</th>\n",
       "      <td>84.000000</td>\n",
       "      <td>62.000000</td>\n",
       "      <td>62.000000</td>\n",
       "      <td>47.000000</td>\n",
       "      <td>62.000000</td>\n",
       "      <td>100.000000</td>\n",
       "      <td>89.000000</td>\n",
       "    </tr>\n",
       "    <tr>\n",
       "      <th>75%</th>\n",
       "      <td>169.000000</td>\n",
       "      <td>99.250000</td>\n",
       "      <td>99.250000</td>\n",
       "      <td>85.000000</td>\n",
       "      <td>99.250000</td>\n",
       "      <td>170.000000</td>\n",
       "      <td>153.000000</td>\n",
       "    </tr>\n",
       "    <tr>\n",
       "      <th>max</th>\n",
       "      <td>948.000000</td>\n",
       "      <td>538.000000</td>\n",
       "      <td>538.000000</td>\n",
       "      <td>506.000000</td>\n",
       "      <td>538.000000</td>\n",
       "      <td>754.000000</td>\n",
       "      <td>556.000000</td>\n",
       "    </tr>\n",
       "  </tbody>\n",
       "</table>\n",
       "</div>"
      ],
      "text/plain": [
       "       ANDRES BELLO  ANTONIO VARAS   BUSTAMANTE        MARIN  MIGUEL CLARO  \\\n",
       "count   6672.000000    6672.000000  6672.000000  6672.000000   6672.000000   \n",
       "mean     127.395084      72.836930    72.836930    69.884442     72.836930   \n",
       "std      162.141802      75.079809    75.079809    87.033774     75.079809   \n",
       "min        0.000000       0.000000     0.000000     0.000000      0.000000   \n",
       "25%        7.000000      11.000000    11.000000     9.000000     11.000000   \n",
       "50%       84.000000      62.000000    62.000000    47.000000     62.000000   \n",
       "75%      169.000000      99.250000    99.250000    85.000000     99.250000   \n",
       "max      948.000000     538.000000   538.000000   506.000000    538.000000   \n",
       "\n",
       "            POCURO  RICARDO LYON  \n",
       "count  6672.000000   6672.000000  \n",
       "mean    126.440947    105.830036  \n",
       "std     137.420884    108.762720  \n",
       "min       0.000000      0.000000  \n",
       "25%      18.000000     11.000000  \n",
       "50%     100.000000     89.000000  \n",
       "75%     170.000000    153.000000  \n",
       "max     754.000000    556.000000  "
      ]
     },
     "execution_count": 5,
     "metadata": {},
     "output_type": "execute_result"
    }
   ],
   "source": [
    "# MIGUEL CLARO, ANTONIO VARAS and BUSTAMANTE have missing values, \n",
    "# if you see the max count it's 6672, and those have less than that\n",
    "# so we should fill these missing values\n",
    "\n",
    "# let's fill with average values from their respective column\n",
    "\n",
    "\n",
    "# Fill missing data\n",
    "df['BUSTAMANTE'] = df['BUSTAMANTE'].fillna(0);\n",
    "df['MIGUEL CLARO'] = df['BUSTAMANTE'].fillna(0);\n",
    "df['ANTONIO VARAS'] = df['BUSTAMANTE'].fillna(0);\n",
    "df.describe()"
   ]
  },
  {
   "cell_type": "code",
   "execution_count": 6,
   "metadata": {
    "collapsed": false
   },
   "outputs": [
    {
     "data": {
      "text/html": [
       "<div>\n",
       "<table border=\"1\" class=\"dataframe\">\n",
       "  <thead>\n",
       "    <tr style=\"text-align: right;\">\n",
       "      <th></th>\n",
       "      <th>Fecha</th>\n",
       "      <th>ANDRES BELLO</th>\n",
       "      <th>ANTONIO VARAS</th>\n",
       "      <th>BUSTAMANTE</th>\n",
       "      <th>MARIN</th>\n",
       "      <th>MIGUEL CLARO</th>\n",
       "      <th>POCURO</th>\n",
       "      <th>RICARDO LYON</th>\n",
       "      <th>DayOfWeek</th>\n",
       "    </tr>\n",
       "  </thead>\n",
       "  <tbody>\n",
       "    <tr>\n",
       "      <th>0</th>\n",
       "      <td>29/03/2015 00:00</td>\n",
       "      <td>8</td>\n",
       "      <td>38.0</td>\n",
       "      <td>38.0</td>\n",
       "      <td>17</td>\n",
       "      <td>38.0</td>\n",
       "      <td>31</td>\n",
       "      <td>18</td>\n",
       "      <td>Sunday</td>\n",
       "    </tr>\n",
       "    <tr>\n",
       "      <th>1</th>\n",
       "      <td>29/03/2015 01:00</td>\n",
       "      <td>6</td>\n",
       "      <td>14.0</td>\n",
       "      <td>14.0</td>\n",
       "      <td>14</td>\n",
       "      <td>14.0</td>\n",
       "      <td>20</td>\n",
       "      <td>13</td>\n",
       "      <td>Sunday</td>\n",
       "    </tr>\n",
       "    <tr>\n",
       "      <th>2</th>\n",
       "      <td>29/03/2015 02:00</td>\n",
       "      <td>1</td>\n",
       "      <td>6.0</td>\n",
       "      <td>6.0</td>\n",
       "      <td>11</td>\n",
       "      <td>6.0</td>\n",
       "      <td>24</td>\n",
       "      <td>10</td>\n",
       "      <td>Sunday</td>\n",
       "    </tr>\n",
       "    <tr>\n",
       "      <th>3</th>\n",
       "      <td>29/03/2015 03:00</td>\n",
       "      <td>3</td>\n",
       "      <td>6.0</td>\n",
       "      <td>6.0</td>\n",
       "      <td>11</td>\n",
       "      <td>6.0</td>\n",
       "      <td>10</td>\n",
       "      <td>9</td>\n",
       "      <td>Sunday</td>\n",
       "    </tr>\n",
       "    <tr>\n",
       "      <th>4</th>\n",
       "      <td>29/03/2015 04:00</td>\n",
       "      <td>1</td>\n",
       "      <td>4.0</td>\n",
       "      <td>4.0</td>\n",
       "      <td>4</td>\n",
       "      <td>4.0</td>\n",
       "      <td>11</td>\n",
       "      <td>3</td>\n",
       "      <td>Sunday</td>\n",
       "    </tr>\n",
       "  </tbody>\n",
       "</table>\n",
       "</div>"
      ],
      "text/plain": [
       "              Fecha  ANDRES BELLO  ANTONIO VARAS  BUSTAMANTE  MARIN  \\\n",
       "0  29/03/2015 00:00             8           38.0        38.0     17   \n",
       "1  29/03/2015 01:00             6           14.0        14.0     14   \n",
       "2  29/03/2015 02:00             1            6.0         6.0     11   \n",
       "3  29/03/2015 03:00             3            6.0         6.0     11   \n",
       "4  29/03/2015 04:00             1            4.0         4.0      4   \n",
       "\n",
       "   MIGUEL CLARO  POCURO  RICARDO LYON DayOfWeek  \n",
       "0          38.0      31            18    Sunday  \n",
       "1          14.0      20            13    Sunday  \n",
       "2           6.0      24            10    Sunday  \n",
       "3           6.0      10             9    Sunday  \n",
       "4           4.0      11             3    Sunday  "
      ]
     },
     "execution_count": 6,
     "metadata": {},
     "output_type": "execute_result"
    }
   ],
   "source": [
    "# let's create another column with day of week\n",
    "\n",
    "import datetime\n",
    "\n",
    "def convertDateToDayOfWeek(date):\n",
    "    return datetime.datetime.strptime(date, '%d/%m/%Y %H:%M').strftime('%A')\n",
    "\n",
    "df['DayOfWeek'] = df['Fecha'].map(lambda x: convertDateToDayOfWeek(x))\n",
    "df.head()"
   ]
  },
  {
   "cell_type": "code",
   "execution_count": 7,
   "metadata": {
    "collapsed": false
   },
   "outputs": [
    {
     "data": {
      "text/html": [
       "<div>\n",
       "<table border=\"1\" class=\"dataframe\">\n",
       "  <thead>\n",
       "    <tr style=\"text-align: right;\">\n",
       "      <th></th>\n",
       "      <th>Fecha</th>\n",
       "      <th>ANDRES BELLO</th>\n",
       "      <th>ANTONIO VARAS</th>\n",
       "      <th>BUSTAMANTE</th>\n",
       "      <th>MARIN</th>\n",
       "      <th>MIGUEL CLARO</th>\n",
       "      <th>POCURO</th>\n",
       "      <th>RICARDO LYON</th>\n",
       "      <th>DayOfWeek</th>\n",
       "      <th>Hour</th>\n",
       "    </tr>\n",
       "  </thead>\n",
       "  <tbody>\n",
       "    <tr>\n",
       "      <th>0</th>\n",
       "      <td>29/03/2015 00:00</td>\n",
       "      <td>8</td>\n",
       "      <td>38.0</td>\n",
       "      <td>38.0</td>\n",
       "      <td>17</td>\n",
       "      <td>38.0</td>\n",
       "      <td>31</td>\n",
       "      <td>18</td>\n",
       "      <td>Sunday</td>\n",
       "      <td>0</td>\n",
       "    </tr>\n",
       "    <tr>\n",
       "      <th>1</th>\n",
       "      <td>29/03/2015 01:00</td>\n",
       "      <td>6</td>\n",
       "      <td>14.0</td>\n",
       "      <td>14.0</td>\n",
       "      <td>14</td>\n",
       "      <td>14.0</td>\n",
       "      <td>20</td>\n",
       "      <td>13</td>\n",
       "      <td>Sunday</td>\n",
       "      <td>1</td>\n",
       "    </tr>\n",
       "    <tr>\n",
       "      <th>2</th>\n",
       "      <td>29/03/2015 02:00</td>\n",
       "      <td>1</td>\n",
       "      <td>6.0</td>\n",
       "      <td>6.0</td>\n",
       "      <td>11</td>\n",
       "      <td>6.0</td>\n",
       "      <td>24</td>\n",
       "      <td>10</td>\n",
       "      <td>Sunday</td>\n",
       "      <td>2</td>\n",
       "    </tr>\n",
       "    <tr>\n",
       "      <th>3</th>\n",
       "      <td>29/03/2015 03:00</td>\n",
       "      <td>3</td>\n",
       "      <td>6.0</td>\n",
       "      <td>6.0</td>\n",
       "      <td>11</td>\n",
       "      <td>6.0</td>\n",
       "      <td>10</td>\n",
       "      <td>9</td>\n",
       "      <td>Sunday</td>\n",
       "      <td>3</td>\n",
       "    </tr>\n",
       "    <tr>\n",
       "      <th>4</th>\n",
       "      <td>29/03/2015 04:00</td>\n",
       "      <td>1</td>\n",
       "      <td>4.0</td>\n",
       "      <td>4.0</td>\n",
       "      <td>4</td>\n",
       "      <td>4.0</td>\n",
       "      <td>11</td>\n",
       "      <td>3</td>\n",
       "      <td>Sunday</td>\n",
       "      <td>4</td>\n",
       "    </tr>\n",
       "  </tbody>\n",
       "</table>\n",
       "</div>"
      ],
      "text/plain": [
       "              Fecha  ANDRES BELLO  ANTONIO VARAS  BUSTAMANTE  MARIN  \\\n",
       "0  29/03/2015 00:00             8           38.0        38.0     17   \n",
       "1  29/03/2015 01:00             6           14.0        14.0     14   \n",
       "2  29/03/2015 02:00             1            6.0         6.0     11   \n",
       "3  29/03/2015 03:00             3            6.0         6.0     11   \n",
       "4  29/03/2015 04:00             1            4.0         4.0      4   \n",
       "\n",
       "   MIGUEL CLARO  POCURO  RICARDO LYON DayOfWeek  Hour  \n",
       "0          38.0      31            18    Sunday     0  \n",
       "1          14.0      20            13    Sunday     1  \n",
       "2           6.0      24            10    Sunday     2  \n",
       "3           6.0      10             9    Sunday     3  \n",
       "4           4.0      11             3    Sunday     4  "
      ]
     },
     "execution_count": 7,
     "metadata": {},
     "output_type": "execute_result"
    }
   ],
   "source": [
    "# Let's create a new column \"hour\" \n",
    "\n",
    "df['Hour'] = df['Fecha'].map(lambda x: datetime.datetime.strptime(x, '%d/%m/%Y %H:%M').hour)\n",
    "df.head()"
   ]
  },
  {
   "cell_type": "code",
   "execution_count": 8,
   "metadata": {
    "collapsed": false
   },
   "outputs": [
    {
     "data": {
      "text/html": [
       "<div>\n",
       "<table border=\"1\" class=\"dataframe\">\n",
       "  <thead>\n",
       "    <tr style=\"text-align: right;\">\n",
       "      <th></th>\n",
       "      <th>Fecha</th>\n",
       "      <th>ANDRES BELLO</th>\n",
       "      <th>ANTONIO VARAS</th>\n",
       "      <th>BUSTAMANTE</th>\n",
       "      <th>MARIN</th>\n",
       "      <th>MIGUEL CLARO</th>\n",
       "      <th>POCURO</th>\n",
       "      <th>RICARDO LYON</th>\n",
       "      <th>DayOfWeek</th>\n",
       "      <th>Hour</th>\n",
       "      <th>total</th>\n",
       "    </tr>\n",
       "  </thead>\n",
       "  <tbody>\n",
       "    <tr>\n",
       "      <th>0</th>\n",
       "      <td>29/03/2015 00:00</td>\n",
       "      <td>8</td>\n",
       "      <td>38.0</td>\n",
       "      <td>38.0</td>\n",
       "      <td>17</td>\n",
       "      <td>38.0</td>\n",
       "      <td>31</td>\n",
       "      <td>18</td>\n",
       "      <td>Sunday</td>\n",
       "      <td>0</td>\n",
       "      <td>188.0</td>\n",
       "    </tr>\n",
       "    <tr>\n",
       "      <th>1</th>\n",
       "      <td>29/03/2015 01:00</td>\n",
       "      <td>6</td>\n",
       "      <td>14.0</td>\n",
       "      <td>14.0</td>\n",
       "      <td>14</td>\n",
       "      <td>14.0</td>\n",
       "      <td>20</td>\n",
       "      <td>13</td>\n",
       "      <td>Sunday</td>\n",
       "      <td>1</td>\n",
       "      <td>95.0</td>\n",
       "    </tr>\n",
       "    <tr>\n",
       "      <th>2</th>\n",
       "      <td>29/03/2015 02:00</td>\n",
       "      <td>1</td>\n",
       "      <td>6.0</td>\n",
       "      <td>6.0</td>\n",
       "      <td>11</td>\n",
       "      <td>6.0</td>\n",
       "      <td>24</td>\n",
       "      <td>10</td>\n",
       "      <td>Sunday</td>\n",
       "      <td>2</td>\n",
       "      <td>64.0</td>\n",
       "    </tr>\n",
       "    <tr>\n",
       "      <th>3</th>\n",
       "      <td>29/03/2015 03:00</td>\n",
       "      <td>3</td>\n",
       "      <td>6.0</td>\n",
       "      <td>6.0</td>\n",
       "      <td>11</td>\n",
       "      <td>6.0</td>\n",
       "      <td>10</td>\n",
       "      <td>9</td>\n",
       "      <td>Sunday</td>\n",
       "      <td>3</td>\n",
       "      <td>51.0</td>\n",
       "    </tr>\n",
       "    <tr>\n",
       "      <th>4</th>\n",
       "      <td>29/03/2015 04:00</td>\n",
       "      <td>1</td>\n",
       "      <td>4.0</td>\n",
       "      <td>4.0</td>\n",
       "      <td>4</td>\n",
       "      <td>4.0</td>\n",
       "      <td>11</td>\n",
       "      <td>3</td>\n",
       "      <td>Sunday</td>\n",
       "      <td>4</td>\n",
       "      <td>31.0</td>\n",
       "    </tr>\n",
       "  </tbody>\n",
       "</table>\n",
       "</div>"
      ],
      "text/plain": [
       "              Fecha  ANDRES BELLO  ANTONIO VARAS  BUSTAMANTE  MARIN  \\\n",
       "0  29/03/2015 00:00             8           38.0        38.0     17   \n",
       "1  29/03/2015 01:00             6           14.0        14.0     14   \n",
       "2  29/03/2015 02:00             1            6.0         6.0     11   \n",
       "3  29/03/2015 03:00             3            6.0         6.0     11   \n",
       "4  29/03/2015 04:00             1            4.0         4.0      4   \n",
       "\n",
       "   MIGUEL CLARO  POCURO  RICARDO LYON DayOfWeek  Hour  total  \n",
       "0          38.0      31            18    Sunday     0  188.0  \n",
       "1          14.0      20            13    Sunday     1   95.0  \n",
       "2           6.0      24            10    Sunday     2   64.0  \n",
       "3           6.0      10             9    Sunday     3   51.0  \n",
       "4           4.0      11             3    Sunday     4   31.0  "
      ]
     },
     "execution_count": 8,
     "metadata": {},
     "output_type": "execute_result"
    }
   ],
   "source": [
    "# Create a total column\n",
    "bike_ways = ['ANDRES BELLO', 'ANTONIO VARAS', 'BUSTAMANTE', 'MARIN', 'MIGUEL CLARO', 'POCURO', 'RICARDO LYON']\n",
    "df['total'] = df[bike_ways].sum(axis=1)\n",
    "df.head()"
   ]
  },
  {
   "cell_type": "code",
   "execution_count": 9,
   "metadata": {
    "collapsed": false,
    "scrolled": true
   },
   "outputs": [
    {
     "data": {
      "text/html": [
       "<div>\n",
       "<table border=\"1\" class=\"dataframe\">\n",
       "  <thead>\n",
       "    <tr style=\"text-align: right;\">\n",
       "      <th></th>\n",
       "      <th>Fecha</th>\n",
       "      <th>ANDRES BELLO</th>\n",
       "      <th>ANTONIO VARAS</th>\n",
       "      <th>BUSTAMANTE</th>\n",
       "      <th>MARIN</th>\n",
       "      <th>MIGUEL CLARO</th>\n",
       "      <th>POCURO</th>\n",
       "      <th>RICARDO LYON</th>\n",
       "      <th>DayOfWeek</th>\n",
       "      <th>Hour</th>\n",
       "      <th>total</th>\n",
       "      <th>date</th>\n",
       "      <th>date_delta</th>\n",
       "    </tr>\n",
       "  </thead>\n",
       "  <tbody>\n",
       "    <tr>\n",
       "      <th>0</th>\n",
       "      <td>29/03/2015 00:00</td>\n",
       "      <td>8</td>\n",
       "      <td>38.0</td>\n",
       "      <td>38.0</td>\n",
       "      <td>17</td>\n",
       "      <td>38.0</td>\n",
       "      <td>31</td>\n",
       "      <td>18</td>\n",
       "      <td>Sunday</td>\n",
       "      <td>0</td>\n",
       "      <td>188.0</td>\n",
       "      <td>2015-03-29 00:00:00</td>\n",
       "      <td>84.000000</td>\n",
       "    </tr>\n",
       "    <tr>\n",
       "      <th>1</th>\n",
       "      <td>29/03/2015 01:00</td>\n",
       "      <td>6</td>\n",
       "      <td>14.0</td>\n",
       "      <td>14.0</td>\n",
       "      <td>14</td>\n",
       "      <td>14.0</td>\n",
       "      <td>20</td>\n",
       "      <td>13</td>\n",
       "      <td>Sunday</td>\n",
       "      <td>1</td>\n",
       "      <td>95.0</td>\n",
       "      <td>2015-03-29 01:00:00</td>\n",
       "      <td>84.041667</td>\n",
       "    </tr>\n",
       "    <tr>\n",
       "      <th>2</th>\n",
       "      <td>29/03/2015 02:00</td>\n",
       "      <td>1</td>\n",
       "      <td>6.0</td>\n",
       "      <td>6.0</td>\n",
       "      <td>11</td>\n",
       "      <td>6.0</td>\n",
       "      <td>24</td>\n",
       "      <td>10</td>\n",
       "      <td>Sunday</td>\n",
       "      <td>2</td>\n",
       "      <td>64.0</td>\n",
       "      <td>2015-03-29 02:00:00</td>\n",
       "      <td>84.083333</td>\n",
       "    </tr>\n",
       "    <tr>\n",
       "      <th>3</th>\n",
       "      <td>29/03/2015 03:00</td>\n",
       "      <td>3</td>\n",
       "      <td>6.0</td>\n",
       "      <td>6.0</td>\n",
       "      <td>11</td>\n",
       "      <td>6.0</td>\n",
       "      <td>10</td>\n",
       "      <td>9</td>\n",
       "      <td>Sunday</td>\n",
       "      <td>3</td>\n",
       "      <td>51.0</td>\n",
       "      <td>2015-03-29 03:00:00</td>\n",
       "      <td>84.125000</td>\n",
       "    </tr>\n",
       "    <tr>\n",
       "      <th>4</th>\n",
       "      <td>29/03/2015 04:00</td>\n",
       "      <td>1</td>\n",
       "      <td>4.0</td>\n",
       "      <td>4.0</td>\n",
       "      <td>4</td>\n",
       "      <td>4.0</td>\n",
       "      <td>11</td>\n",
       "      <td>3</td>\n",
       "      <td>Sunday</td>\n",
       "      <td>4</td>\n",
       "      <td>31.0</td>\n",
       "      <td>2015-03-29 04:00:00</td>\n",
       "      <td>84.166667</td>\n",
       "    </tr>\n",
       "  </tbody>\n",
       "</table>\n",
       "</div>"
      ],
      "text/plain": [
       "              Fecha  ANDRES BELLO  ANTONIO VARAS  BUSTAMANTE  MARIN  \\\n",
       "0  29/03/2015 00:00             8           38.0        38.0     17   \n",
       "1  29/03/2015 01:00             6           14.0        14.0     14   \n",
       "2  29/03/2015 02:00             1            6.0         6.0     11   \n",
       "3  29/03/2015 03:00             3            6.0         6.0     11   \n",
       "4  29/03/2015 04:00             1            4.0         4.0      4   \n",
       "\n",
       "   MIGUEL CLARO  POCURO  RICARDO LYON DayOfWeek  Hour  total  \\\n",
       "0          38.0      31            18    Sunday     0  188.0   \n",
       "1          14.0      20            13    Sunday     1   95.0   \n",
       "2           6.0      24            10    Sunday     2   64.0   \n",
       "3           6.0      10             9    Sunday     3   51.0   \n",
       "4           4.0      11             3    Sunday     4   31.0   \n",
       "\n",
       "                 date  date_delta  \n",
       "0 2015-03-29 00:00:00   84.000000  \n",
       "1 2015-03-29 01:00:00   84.041667  \n",
       "2 2015-03-29 02:00:00   84.083333  \n",
       "3 2015-03-29 03:00:00   84.125000  \n",
       "4 2015-03-29 04:00:00   84.166667  "
      ]
     },
     "execution_count": 9,
     "metadata": {},
     "output_type": "execute_result"
    }
   ],
   "source": [
    "# create a timestamp column\n",
    "df['date'] = pd.to_datetime(df['Fecha'])    \n",
    "df['date_delta'] = (df['date'] - df['date'].min())  / np.timedelta64(1,'D')\n",
    "df.head()\n"
   ]
  },
  {
   "cell_type": "markdown",
   "metadata": {},
   "source": [
    "# Visualize data"
   ]
  },
  {
   "cell_type": "code",
   "execution_count": 10,
   "metadata": {
    "collapsed": true
   },
   "outputs": [],
   "source": [
    "def factorPlot(x, y, x_name, y_name):\n",
    "    DOW = pd.DataFrame(list(zip(x,y)), columns=[x_name,y_name], index=None)\n",
    "    return sns.factorplot(x=x_name, y=y_name, data = DOW, kind=\"bar\", size=8, aspect=1.9)"
   ]
  },
  {
   "cell_type": "code",
   "execution_count": 13,
   "metadata": {
    "collapsed": false
   },
   "outputs": [
    {
     "data": {
      "text/plain": [
       "<seaborn.axisgrid.FacetGrid at 0x7f6b393e1ef0>"
      ]
     },
     "execution_count": 13,
     "metadata": {},
     "output_type": "execute_result"
    },
    {
     "data": {
      "image/png": "[encoded data removed]",
      "text/plain": [
       "<matplotlib.figure.Figure at 0x7f6b393e1e48>"
      ]
     },
     "metadata": {},
     "output_type": "display_data"
    }
   ],
   "source": [
    "# Visualize total counts by day\n",
    "days = df['DayOfWeek'].unique()\n",
    "total_count_by_day = []\n",
    "for day in days :\n",
    "    total_count_by_day.append(df.loc[df['DayOfWeek'] == day, 'total'].sum())\n",
    "factorPlot(total_count_by_day, days, 'Days count','Days')"
   ]
  },
  {
   "cell_type": "code",
   "execution_count": 14,
   "metadata": {
    "collapsed": false
   },
   "outputs": [
    {
     "data": {
      "image/png": "[encoded data removed]",
      "text/plain": [
       "<matplotlib.figure.Figure at 0x7f6b393889b0>"
      ]
     },
     "metadata": {},
     "output_type": "display_data"
    },
    {
     "data": {
      "image/png": "[encoded data removed]",
      "text/plain": [
       "<matplotlib.figure.Figure at 0x7f6b39335710>"
      ]
     },
     "metadata": {},
     "output_type": "display_data"
    },
    {
     "data": {
      "image/png": "[encoded data removed]",
      "text/plain": [
       "<matplotlib.figure.Figure at 0x7f6b39243f28>"
      ]
     },
     "metadata": {},
     "output_type": "display_data"
    },
    {
     "data": {
      "image/png": "[encoded data removed]",
      "text/plain": [
       "<matplotlib.figure.Figure at 0x7f6b391c54e0>"
      ]
     },
     "metadata": {},
     "output_type": "display_data"
    },
    {
     "data": {
      "image/png": "[encoded data removed]",
      "text/plain": [
       "<matplotlib.figure.Figure at 0x7f6b39184198>"
      ]
     },
     "metadata": {},
     "output_type": "display_data"
    },
    {
     "data": {
      "image/png": "[encoded data removed]",
      "text/plain": [
       "<matplotlib.figure.Figure at 0x7f6b390d0ef0>"
      ]
     },
     "metadata": {},
     "output_type": "display_data"
    },
    {
     "data": {
      "image/png": "[encoded data removed]",
      "text/plain": [
       "<matplotlib.figure.Figure at 0x7f6b38fdd278>"
      ]
     },
     "metadata": {},
     "output_type": "display_data"
    }
   ],
   "source": [
    "# visualize total counts by bikeways\n",
    "for bike_way in bike_ways:\n",
    "    total_count_by_day = []\n",
    "    for day in days:\n",
    "        total_count_by_day.append(df.loc[df['DayOfWeek'] == day, bike_way].sum())\n",
    "        \n",
    "    factorPlot(total_count_by_day, days, bike_way, 'Days')\n"
   ]
  },
  {
   "cell_type": "code",
   "execution_count": 19,
   "metadata": {
    "collapsed": false
   },
   "outputs": [
    {
     "data": {
      "text/plain": [
       "<seaborn.axisgrid.FacetGrid at 0x7f6b38f41e80>"
      ]
     },
     "execution_count": 19,
     "metadata": {},
     "output_type": "execute_result"
    },
    {
     "data": {
      "image/png": "[encoded data removed]",
      "text/plain": [
       "<matplotlib.figure.Figure at 0x7f6b38f416a0>"
      ]
     },
     "metadata": {},
     "output_type": "display_data"
    }
   ],
   "source": [
    "# Visualize total counts by hour\n",
    "hours = df['Hour'].unique()\n",
    "total_count_by_hour = []\n",
    "for hour in hours:\n",
    "    total_count_by_hour.append(df.loc[df['Hour'] == hour, 'total'].sum())\n",
    "factorPlot(hours, total_count_by_hour, 'Hours','Hour Count')"
   ]
  },
  {
   "cell_type": "code",
   "execution_count": null,
   "metadata": {
    "collapsed": true
   },
   "outputs": [],
   "source": [
    "# visualize total counts by bikeways\n",
    "for bike_way in bike_ways:\n",
    "    total_count_by_day = []\n",
    "    for day in days:\n",
    "        total_count_by_day.append(df.loc[df['DayOfWeek'] == day, bike_way].sum())\n",
    "        \n",
    "    factorPlot(total_count_by_day, days, bike_way, 'Days')"
   ]
  }
 ],
 "metadata": {
  "anaconda-cloud": {},
  "kernelspec": {
   "display_name": "Python [Root]",
   "language": "python",
   "name": "Python [Root]"
  },
  "language_info": {
   "codemirror_mode": {
    "name": "ipython",
    "version": 3
   },
   "file_extension": ".py",
   "mimetype": "text/x-python",
   "name": "python",
   "nbconvert_exporter": "python",
   "pygments_lexer": "ipython3",
   "version": "3.5.2"
  }
 },
 "nbformat": 4,
 "nbformat_minor": 0
}
